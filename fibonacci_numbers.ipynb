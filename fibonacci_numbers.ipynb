{
 "cells": [
  {
   "cell_type": "code",
   "execution_count": 1,
   "metadata": {},
   "outputs": [
    {
     "output_type": "stream",
     "name": "stdout",
     "text": "From 1 to 75 fibonacci numbers are : [1, 1, 2, 3, 5, 8, 13, 21, 34, 55]\n"
    }
   ],
   "source": [
    "limit = int(input(\"Enter the limit of fibonacci numbers to generate :\"))\n",
    "a = 1\n",
    "b = 1\n",
    "total = 0\n",
    "fibo_list = [a]\n",
    "while b < limit:\n",
    "    fibo_list.append(b)\n",
    "    total = a + b\n",
    "    a = b\n",
    "    b = total\n",
    "      \n",
    "print(\"From 1 to {} fibonacci numbers are :\".format(limit), (fibo_list))\n"
   ]
  },
  {
   "cell_type": "code",
   "execution_count": null,
   "metadata": {},
   "outputs": [],
   "source": []
  }
 ],
 "metadata": {
  "language_info": {
   "codemirror_mode": {
    "name": "ipython",
    "version": 3
   },
   "file_extension": ".py",
   "mimetype": "text/x-python",
   "name": "python",
   "nbconvert_exporter": "python",
   "pygments_lexer": "ipython3",
   "version": "3.8.2-final"
  },
  "orig_nbformat": 2,
  "kernelspec": {
   "name": "python38232bitad52a44488cb497c8ed438777a5aa36c",
   "display_name": "Python 3.8.2 32-bit"
  }
 },
 "nbformat": 4,
 "nbformat_minor": 2
}